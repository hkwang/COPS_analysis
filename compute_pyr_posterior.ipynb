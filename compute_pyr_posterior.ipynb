{
 "cells": [
  {
   "cell_type": "code",
   "execution_count": 3,
   "id": "7d16e6b5-1ce7-46f0-a3b8-651d08afd177",
   "metadata": {},
   "outputs": [],
   "source": [
    "import numpy as np\n",
    "import pandas as pd"
   ]
  },
  {
   "cell_type": "code",
   "execution_count": 4,
   "id": "0706ae69-d52f-49ec-9274-39960d492c9b",
   "metadata": {},
   "outputs": [
    {
     "name": "stdout",
     "output_type": "stream",
     "text": [
      "[ 55 120   8]\n"
     ]
    }
   ],
   "source": [
    "shifts = np.array((120,55,8))\n",
    "print(shifts[[1,0,2]])"
   ]
  },
  {
   "cell_type": "code",
   "execution_count": 5,
   "id": "a1a2d8db-9963-4946-bfd8-557f3c4497ec",
   "metadata": {},
   "outputs": [],
   "source": [
    "def gaussian(x, mu, sig):\n",
    "    return 1/np.sqrt(2*np.pi*sig)*np.exp(-np.power(x - mu, 2.) / (2 * np.power(sig, 2.)))"
   ]
  },
  {
   "cell_type": "code",
   "execution_count": 6,
   "id": "4c97c0a4-ba2d-466f-9f36-05c212efb778",
   "metadata": {},
   "outputs": [
    {
     "data": {
      "text/plain": [
       "Residue     E\n",
       "mean       35\n",
       "stdev       5\n",
       "Name: E, dtype: object"
      ]
     },
     "execution_count": 6,
     "metadata": {},
     "output_type": "execute_result"
    }
   ],
   "source": [
    "input_probs = np.array([['E', 26.6], ['Q', 24.0], ['R', 21.0], ['H', 17.3], ['W', 7.4], ['M', 2.3], ['C', 1.4]])\n",
    "pyruvate_percent = 35\n",
    "df = pd.read_excel('pyruvate_likelihood.xlsx')\n",
    "df.index = df['Residue']\n",
    "df.loc['E']"
   ]
  },
  {
   "cell_type": "code",
   "execution_count": 20,
   "id": "570bebf0-dadc-4d34-b373-b3138150e69e",
   "metadata": {},
   "outputs": [],
   "source": [
    "def pyruvate_posterior(input_prob, pyruvate_frac, df):\n",
    "    df['conditional_prob']=gaussian(pyruvate_frac, df['mean'].to_numpy(), df['stdev'].to_numpy())\n",
    "    posterior = input_prob[:,1].astype('float64')*df.loc[input_prob[:,0]]['conditional_prob']\n",
    "    posterior = posterior/np.sum(posterior)\n",
    "    input_prob[:,1] = posterior.round(2)\n",
    "    posterior = input_prob\n",
    "    posterior = posterior[np.argsort(-posterior[:,1].astype('float64'))]\n",
    "    return posterior\n",
    "    "
   ]
  },
  {
   "cell_type": "code",
   "execution_count": 21,
   "id": "67395035-5c76-4532-bef5-84591623f431",
   "metadata": {},
   "outputs": [
    {
     "data": {
      "text/plain": [
       "array([['E', '0.37'],\n",
       "       ['Q', '0.33'],\n",
       "       ['R', '0.29'],\n",
       "       ['M', '0.01'],\n",
       "       ['H', '0.0'],\n",
       "       ['W', '0.0'],\n",
       "       ['C', '0.0']], dtype='<U32')"
      ]
     },
     "execution_count": 21,
     "metadata": {},
     "output_type": "execute_result"
    }
   ],
   "source": [
    "pyruvate_posterior(input_probs, pyruvate_percent, df)"
   ]
  },
  {
   "cell_type": "code",
   "execution_count": null,
   "id": "2d8b3807-3f74-4d10-9926-d198ff3eea33",
   "metadata": {},
   "outputs": [],
   "source": []
  },
  {
   "cell_type": "code",
   "execution_count": null,
   "id": "288a67b0-3792-42ea-8000-c6fc87bcd4c5",
   "metadata": {},
   "outputs": [],
   "source": []
  }
 ],
 "metadata": {
  "kernelspec": {
   "display_name": "nmr",
   "language": "python",
   "name": "nmr"
  },
  "language_info": {
   "codemirror_mode": {
    "name": "ipython",
    "version": 3
   },
   "file_extension": ".py",
   "mimetype": "text/x-python",
   "name": "python",
   "nbconvert_exporter": "python",
   "pygments_lexer": "ipython3",
   "version": "3.9.12"
  }
 },
 "nbformat": 4,
 "nbformat_minor": 5
}
