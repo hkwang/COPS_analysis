{
 "cells": [
  {
   "cell_type": "code",
   "execution_count": 11,
   "id": "dd68c2db",
   "metadata": {},
   "outputs": [],
   "source": [
    "import scipy.io\n",
    "import numpy as np"
   ]
  },
  {
   "cell_type": "code",
   "execution_count": 12,
   "id": "e70205e3",
   "metadata": {},
   "outputs": [],
   "source": [
    "mat = scipy.io.loadmat('../files/dec_profiles_named.mat')\n",
    "a = mat.get('dec_profiles')\n",
    "np.savetxt('dec_profiles.csv', a)"
   ]
  },
  {
   "cell_type": "code",
   "execution_count": null,
   "id": "fcc3a221",
   "metadata": {},
   "outputs": [],
   "source": [
    "np.load"
   ]
  }
 ],
 "metadata": {
  "kernelspec": {
   "display_name": "Python 3 (ipykernel)",
   "language": "python",
   "name": "python3"
  },
  "language_info": {
   "codemirror_mode": {
    "name": "ipython",
    "version": 3
   },
   "file_extension": ".py",
   "mimetype": "text/x-python",
   "name": "python",
   "nbconvert_exporter": "python",
   "pygments_lexer": "ipython3",
   "version": "3.9.12"
  }
 },
 "nbformat": 4,
 "nbformat_minor": 5
}
