{
 "cells": [
  {
   "cell_type": "code",
   "execution_count": 2,
   "id": "aa781ab2-cef4-4e9b-a58b-823652004cd2",
   "metadata": {},
   "outputs": [],
   "source": [
    "import numpy as np\n",
    "import pandas as pd\n"
   ]
  },
  {
   "cell_type": "code",
   "execution_count": 29,
   "id": "3b1f80ce-dce0-4d0b-98d1-7473875e4b86",
   "metadata": {},
   "outputs": [],
   "source": [
    "a = pd.read_fwf('/home/nmrbox/hwang/Sparky/Lists/SHP2_massage_good.list', infer_nrows=3000)"
   ]
  },
  {
   "cell_type": "code",
   "execution_count": 30,
   "id": "825526f4-bcbb-4439-8297-d94217fe10db",
   "metadata": {},
   "outputs": [],
   "source": [
    "a['w1']=(a['w1'][a['w1']!='-'].astype('float32')-2.8).round(3)\n",
    "a['w2']=(a['w2 \\t\\tw3'][a['w2 \\t\\tw3']!='-'].astype('float32')+0.2).round(3)\n",
    "a['w3']=(a['Unnamed: 3'][a['Unnamed: 3']!='-'].astype('float32')+0.01).round(3)\n",
    "a = a.drop(columns='w2 \\t\\tw3')\n",
    "a = a.drop(columns='Unnamed: 3')"
   ]
  },
  {
   "cell_type": "code",
   "execution_count": 31,
   "id": "4b713775-da00-4aed-9127-56574ecf46c7",
   "metadata": {},
   "outputs": [],
   "source": [
    "a.to_csv('/home/nmrbox/hwang/Sparky/Lists/SHP2_massage.list', sep='\\t')"
   ]
  },
  {
   "cell_type": "code",
   "execution_count": 32,
   "id": "eaa25bcf-87bd-48e4-9e3b-681cd62fffd7",
   "metadata": {},
   "outputs": [],
   "source": [
    "t = \"test/test\""
   ]
  },
  {
   "cell_type": "code",
   "execution_count": 34,
   "id": "3ff07b6c-5ab6-4e25-a22f-e578672278db",
   "metadata": {},
   "outputs": [],
   "source": [
    "import re"
   ]
  },
  {
   "cell_type": "code",
   "execution_count": 33,
   "id": "a68e478e-5496-4a12-8d21-07c7ae74dbc0",
   "metadata": {},
   "outputs": [
    {
     "data": {
      "text/plain": [
       "False"
      ]
     },
     "execution_count": 33,
     "metadata": {},
     "output_type": "execute_result"
    }
   ],
   "source": [
    "t == \"*/*\"\n"
   ]
  },
  {
   "cell_type": "code",
   "execution_count": null,
   "id": "252b536f-bb9d-4dff-b996-aa3ed1eb1a97",
   "metadata": {},
   "outputs": [],
   "source": []
  }
 ],
 "metadata": {
  "kernelspec": {
   "display_name": "nmr",
   "language": "python",
   "name": "nmr"
  },
  "language_info": {
   "codemirror_mode": {
    "name": "ipython",
    "version": 3
   },
   "file_extension": ".py",
   "mimetype": "text/x-python",
   "name": "python",
   "nbconvert_exporter": "python",
   "pygments_lexer": "ipython3",
   "version": "3.9.12"
  }
 },
 "nbformat": 4,
 "nbformat_minor": 5
}
