{
 "cells": [
  {
   "cell_type": "code",
   "execution_count": 1,
   "id": "a9947386-dde8-42dc-b6da-f44ccefcb8e0",
   "metadata": {},
   "outputs": [],
   "source": [
    "import numpy as np\n",
    "import matplotlib.pyplot as plt\n",
    "import csv\n",
    "from matplotlib.widgets import Slider, Button\n",
    "import scipy\n",
    "import scipy.optimize\n",
    "import scipy.io\n",
    "from scipy.interpolate import interp1d\n",
    "import nmrglue as ng\n",
    "import pandas as pd\n",
    "#also requires openpyxl\n",
    "\n",
    "from cops_analysis import cops_analyze"
   ]
  },
  {
   "cell_type": "code",
   "execution_count": 2,
   "id": "b53bec4a-2140-4ace-bd9d-1773ebe60914",
   "metadata": {},
   "outputs": [
    {
     "name": "stdout",
     "output_type": "stream",
     "text": [
      "CPU times: user 58.1 ms, sys: 116 ms, total: 174 ms\n",
      "Wall time: 1.42 s\n"
     ]
    }
   ],
   "source": [
    "%%time \n",
    "import os\n",
    "os.chdir('/home/nmrbox/hwang/Documents/COPS_dev/')\n",
    "a = cops_analyze(['../no_pyruvate/GB1_BCG1.ucsf','../no_pyruvate/GB1_BCG3.ucsf','../no_pyruvate/GB1_BCG4.ucsf','../no_pyruvate/GB1_BCG5.ucsf','../no_pyruvate/GB1_BCG6.ucsf',], mode='HCA',pyruvate_on=False)\n"
   ]
  },
  {
   "cell_type": "code",
   "execution_count": 4,
   "id": "f8df9668-2e2d-4b42-b932-c2e9a1097686",
   "metadata": {},
   "outputs": [
    {
     "data": {
      "text/html": [
       "<div>\n",
       "<style scoped>\n",
       "    .dataframe tbody tr th:only-of-type {\n",
       "        vertical-align: middle;\n",
       "    }\n",
       "\n",
       "    .dataframe tbody tr th {\n",
       "        vertical-align: top;\n",
       "    }\n",
       "\n",
       "    .dataframe thead th {\n",
       "        text-align: right;\n",
       "    }\n",
       "</style>\n",
       "<table border=\"1\" class=\"dataframe\">\n",
       "  <thead>\n",
       "    <tr style=\"text-align: right;\">\n",
       "      <th></th>\n",
       "      <th>CA</th>\n",
       "      <th>HN</th>\n",
       "    </tr>\n",
       "    <tr>\n",
       "      <th>Assignment</th>\n",
       "      <th></th>\n",
       "      <th></th>\n",
       "    </tr>\n",
       "  </thead>\n",
       "  <tbody>\n",
       "    <tr>\n",
       "      <th>T1Ca-HN</th>\n",
       "      <td>52.978</td>\n",
       "      <td>8.284</td>\n",
       "    </tr>\n",
       "    <tr>\n",
       "      <th>T1Ca-Y2HN</th>\n",
       "      <td>52.978</td>\n",
       "      <td>9.048</td>\n",
       "    </tr>\n",
       "    <tr>\n",
       "      <th>Y2Ca-HN</th>\n",
       "      <td>54.261</td>\n",
       "      <td>9.048</td>\n",
       "    </tr>\n",
       "    <tr>\n",
       "      <th>Y2Ca-K3HN</th>\n",
       "      <td>54.261</td>\n",
       "      <td>9.048</td>\n",
       "    </tr>\n",
       "    <tr>\n",
       "      <th>K3Ca-HN</th>\n",
       "      <td>52.176</td>\n",
       "      <td>9.047</td>\n",
       "    </tr>\n",
       "    <tr>\n",
       "      <th>...</th>\n",
       "      <td>...</td>\n",
       "      <td>...</td>\n",
       "    </tr>\n",
       "    <tr>\n",
       "      <th>V53Ca-HN</th>\n",
       "      <td>55.099</td>\n",
       "      <td>8.179</td>\n",
       "    </tr>\n",
       "    <tr>\n",
       "      <th>V53Ca-T54HN</th>\n",
       "      <td>55.089</td>\n",
       "      <td>8.303</td>\n",
       "    </tr>\n",
       "    <tr>\n",
       "      <th>T54Ca-HN</th>\n",
       "      <td>57.846</td>\n",
       "      <td>8.304</td>\n",
       "    </tr>\n",
       "    <tr>\n",
       "      <th>T54Ca-E55HN</th>\n",
       "      <td>57.846</td>\n",
       "      <td>8.088</td>\n",
       "    </tr>\n",
       "    <tr>\n",
       "      <th>E55Ca-HN</th>\n",
       "      <td>53.522</td>\n",
       "      <td>8.087</td>\n",
       "    </tr>\n",
       "  </tbody>\n",
       "</table>\n",
       "<p>109 rows × 2 columns</p>\n",
       "</div>"
      ],
      "text/plain": [
       "                 CA     HN\n",
       "Assignment                \n",
       "T1Ca-HN      52.978  8.284\n",
       "T1Ca-Y2HN    52.978  9.048\n",
       "Y2Ca-HN      54.261  9.048\n",
       "Y2Ca-K3HN    54.261  9.048\n",
       "K3Ca-HN      52.176  9.047\n",
       "...             ...    ...\n",
       "V53Ca-HN     55.099  8.179\n",
       "V53Ca-T54HN  55.089  8.303\n",
       "T54Ca-HN     57.846  8.304\n",
       "T54Ca-E55HN  57.846  8.088\n",
       "E55Ca-HN     53.522  8.087\n",
       "\n",
       "[109 rows x 2 columns]"
      ]
     },
     "execution_count": 4,
     "metadata": {},
     "output_type": "execute_result"
    }
   ],
   "source": [
    "tb=pd.read_fwf('../no_pyruvate/GB1_BCG1.list', infer_nrows=300)\n",
    "tb = tb.rename(columns={'w1':'CA','w2':'HN'})\n",
    "\n",
    "#realign spectra\n",
    "tb = tb.set_index(tb['Assignment'])\n",
    "tb = tb.drop(columns='Assignment')\n",
    "\n",
    "shifts_array = tb.to_numpy(dtype=np.float32)\n",
    "tb"
   ]
  },
  {
   "cell_type": "code",
   "execution_count": 5,
   "id": "fe260fad-5293-4a2c-bfc8-2fb4ada30729",
   "metadata": {},
   "outputs": [
    {
     "name": "stdout",
     "output_type": "stream",
     "text": [
      "484.60645795667847\n"
     ]
    },
    {
     "data": {
      "text/plain": [
       "(array([37.84390836,  0.999     , 39.03317259,  3.99080895, 56.51383941,\n",
       "         9.52233465]),\n",
       " 0.0020635300739004912)"
      ]
     },
     "execution_count": 5,
     "metadata": {},
     "output_type": "execute_result"
    }
   ],
   "source": [
    "a.CalcCB(shifts_array[7], simple_output=False)"
   ]
  },
  {
   "cell_type": "code",
   "execution_count": 17,
   "id": "6b3650e3-8fa4-4139-b41a-f1783a5b6cdf",
   "metadata": {},
   "outputs": [
    {
     "name": "stdout",
     "output_type": "stream",
     "text": [
      "279.4439010660288\n",
      "234.67771233437566\n",
      "297.43481388165947\n",
      "297.43481388165947\n",
      "214.71301575807271\n",
      "233.75562806697366\n",
      "158.99329636342878\n",
      "164.4437583603251\n",
      "255.52753366941832\n",
      "257.5463366053982\n",
      "100.56157642406467\n",
      "107.50478581275965\n",
      "232.3491939332302\n",
      "291.06824281393347\n",
      "1632.2426783426292\n",
      "1754.2528643092885\n",
      "169.27449713421214\n",
      "204.80484981394878\n",
      "34.76292962704394\n",
      "46.85605510982051\n",
      "188.536719877603\n",
      "182.0308130161383\n",
      "135.41533490619796\n",
      "148.425167314176\n",
      "1605.1783445989172\n",
      "1614.5593277389225\n",
      "304.0075073756605\n",
      "217.1131264494755\n",
      "29.23358374759236\n",
      "44.91088028376056\n",
      "33.088631433224016\n",
      "40.85996489949106\n",
      "34.079544437611055\n",
      "47.479082438374505\n",
      "239.52739198994112\n",
      "222.44317745402685\n",
      "141.50064400391472\n",
      "181.7516852135796\n",
      "165.89036955435208\n",
      "181.10713777533198\n",
      "60.81817374505444\n",
      "80.79297965786219\n",
      "110.39187503375081\n",
      "431.3495987659529\n",
      "109.631254374891\n",
      "445.03136808984925\n",
      "21.2582206109019\n",
      "33.210442691158406\n",
      "99.71538170351386\n",
      "376.43467250840257\n",
      "246.58742854454601\n",
      "1128.3056744482178\n",
      "480.3356923214464\n",
      "249.68677529616508\n",
      "181.98630270182585\n",
      "213.14912284622238\n",
      "239.80444349245371\n",
      "260.98522843898536\n",
      "221.16618367843895\n",
      "232.7925393227467\n",
      "194.34500424574958\n",
      "225.54556150135096\n",
      "219.39084215747187\n",
      "234.13484581281597\n",
      "106.89832291190142\n",
      "125.32011676003552\n",
      "171.53336473301457\n",
      "561.2646291314145\n",
      "382.99713531458474\n",
      "279.04075660375986\n",
      "202.40022228115873\n",
      "222.10639934048143\n",
      "585.6911180096313\n",
      "200.39486595777976\n",
      "191.7827306148253\n",
      "167.1028638644764\n",
      "183.58610742716286\n",
      "1262.4243870349349\n",
      "1342.1934634094628\n",
      "190.8371279654777\n",
      "182.3269212102125\n",
      "233.9286629299283\n",
      "230.04252003616733\n",
      "35.63645278508574\n",
      "46.026124941020214\n",
      "228.22570069668316\n",
      "207.64764432357265\n",
      "138.80446458426368\n",
      "253.75413355677722\n",
      "97.37270971266773\n",
      "97.37276659324824\n",
      "116.95849061287029\n",
      "125.16268658200518\n",
      "27.12584924507042\n",
      "42.970967950847495\n",
      "255.24174705170475\n",
      "264.23505636993525\n",
      "39.74042803606591\n",
      "56.22348006580583\n",
      "89.08350672605812\n",
      "1767.3031515336947\n",
      "32.145466111832846\n",
      "48.974301921619514\n",
      "156.42367621953355\n",
      "160.98669934329146\n",
      "33.463465210518464\n",
      "40.134894427966046\n",
      "178.86360386422137\n",
      "CPU times: user 52 s, sys: 295 ms, total: 52.3 s\n",
      "Wall time: 52.3 s\n"
     ]
    }
   ],
   "source": [
    "%%time\n",
    "CBs = []\n",
    "credence = []\n",
    "\n",
    "for i in range(len(shifts_array)):\n",
    "    try: \n",
    "        result = a.CalcCB(shifts_array[i], simple_output=False, sw = 70)\n",
    "    except:\n",
    "        result = ([0,0,0,0,0],[1])\n",
    "    CBs = np.append(CBs, result[0][2])\n",
    "    credence = np.append(credence, result[1])\n",
    "tb['CB'] = CBs\n",
    "tb['1/covariance'] = 1/credence"
   ]
  },
  {
   "cell_type": "code",
   "execution_count": 18,
   "id": "a8898cbd-11f2-42f2-8571-8e29a83ad2d9",
   "metadata": {},
   "outputs": [
    {
     "data": {
      "text/html": [
       "<div>\n",
       "<style scoped>\n",
       "    .dataframe tbody tr th:only-of-type {\n",
       "        vertical-align: middle;\n",
       "    }\n",
       "\n",
       "    .dataframe tbody tr th {\n",
       "        vertical-align: top;\n",
       "    }\n",
       "\n",
       "    .dataframe thead th {\n",
       "        text-align: right;\n",
       "    }\n",
       "</style>\n",
       "<table border=\"1\" class=\"dataframe\">\n",
       "  <thead>\n",
       "    <tr style=\"text-align: right;\">\n",
       "      <th></th>\n",
       "      <th>CA</th>\n",
       "      <th>HN</th>\n",
       "      <th>CB</th>\n",
       "      <th>1/covariance</th>\n",
       "    </tr>\n",
       "    <tr>\n",
       "      <th>Assignment</th>\n",
       "      <th></th>\n",
       "      <th></th>\n",
       "      <th></th>\n",
       "      <th></th>\n",
       "    </tr>\n",
       "  </thead>\n",
       "  <tbody>\n",
       "    <tr>\n",
       "      <th>T1Ca-HN</th>\n",
       "      <td>52.978</td>\n",
       "      <td>8.284</td>\n",
       "      <td>27.404211</td>\n",
       "      <td>279.443901</td>\n",
       "    </tr>\n",
       "    <tr>\n",
       "      <th>T1Ca-Y2HN</th>\n",
       "      <td>52.978</td>\n",
       "      <td>9.048</td>\n",
       "      <td>27.264897</td>\n",
       "      <td>234.677712</td>\n",
       "    </tr>\n",
       "    <tr>\n",
       "      <th>Y2Ca-HN</th>\n",
       "      <td>54.261</td>\n",
       "      <td>9.048</td>\n",
       "      <td>39.802154</td>\n",
       "      <td>297.434814</td>\n",
       "    </tr>\n",
       "    <tr>\n",
       "      <th>Y2Ca-K3HN</th>\n",
       "      <td>54.261</td>\n",
       "      <td>9.048</td>\n",
       "      <td>39.802154</td>\n",
       "      <td>297.434814</td>\n",
       "    </tr>\n",
       "    <tr>\n",
       "      <th>K3Ca-HN</th>\n",
       "      <td>52.176</td>\n",
       "      <td>9.047</td>\n",
       "      <td>32.316757</td>\n",
       "      <td>214.713016</td>\n",
       "    </tr>\n",
       "    <tr>\n",
       "      <th>...</th>\n",
       "      <td>...</td>\n",
       "      <td>...</td>\n",
       "      <td>...</td>\n",
       "      <td>...</td>\n",
       "    </tr>\n",
       "    <tr>\n",
       "      <th>V53Ca-HN</th>\n",
       "      <td>55.099</td>\n",
       "      <td>8.179</td>\n",
       "      <td>28.897081</td>\n",
       "      <td>156.423676</td>\n",
       "    </tr>\n",
       "    <tr>\n",
       "      <th>V53Ca-T54HN</th>\n",
       "      <td>55.089</td>\n",
       "      <td>8.303</td>\n",
       "      <td>28.890304</td>\n",
       "      <td>160.986699</td>\n",
       "    </tr>\n",
       "    <tr>\n",
       "      <th>T54Ca-HN</th>\n",
       "      <td>57.846</td>\n",
       "      <td>8.304</td>\n",
       "      <td>45.122087</td>\n",
       "      <td>33.463465</td>\n",
       "    </tr>\n",
       "    <tr>\n",
       "      <th>T54Ca-E55HN</th>\n",
       "      <td>57.846</td>\n",
       "      <td>8.088</td>\n",
       "      <td>44.892329</td>\n",
       "      <td>40.134894</td>\n",
       "    </tr>\n",
       "    <tr>\n",
       "      <th>E55Ca-HN</th>\n",
       "      <td>53.522</td>\n",
       "      <td>8.087</td>\n",
       "      <td>28.415409</td>\n",
       "      <td>178.863604</td>\n",
       "    </tr>\n",
       "  </tbody>\n",
       "</table>\n",
       "<p>109 rows × 4 columns</p>\n",
       "</div>"
      ],
      "text/plain": [
       "                 CA     HN         CB  1/covariance\n",
       "Assignment                                         \n",
       "T1Ca-HN      52.978  8.284  27.404211    279.443901\n",
       "T1Ca-Y2HN    52.978  9.048  27.264897    234.677712\n",
       "Y2Ca-HN      54.261  9.048  39.802154    297.434814\n",
       "Y2Ca-K3HN    54.261  9.048  39.802154    297.434814\n",
       "K3Ca-HN      52.176  9.047  32.316757    214.713016\n",
       "...             ...    ...        ...           ...\n",
       "V53Ca-HN     55.099  8.179  28.897081    156.423676\n",
       "V53Ca-T54HN  55.089  8.303  28.890304    160.986699\n",
       "T54Ca-HN     57.846  8.304  45.122087     33.463465\n",
       "T54Ca-E55HN  57.846  8.088  44.892329     40.134894\n",
       "E55Ca-HN     53.522  8.087  28.415409    178.863604\n",
       "\n",
       "[109 rows x 4 columns]"
      ]
     },
     "execution_count": 18,
     "metadata": {},
     "output_type": "execute_result"
    }
   ],
   "source": [
    "tb"
   ]
  },
  {
   "cell_type": "code",
   "execution_count": 6,
   "id": "c1b06b54-b2b3-43f0-9550-0ffe801148da",
   "metadata": {},
   "outputs": [],
   "source": [
    "tb_truth = pd.read_excel('GB1_ground_truth_hw.xlsx')"
   ]
  },
  {
   "cell_type": "code",
   "execution_count": 7,
   "id": "60a79a55-3a1f-4e76-8fdf-53b788de2f60",
   "metadata": {},
   "outputs": [],
   "source": [
    "tb['CB_scott'] = tb_truth['CB_scott'].to_numpy()\n",
    "tb.to_excel('CB_fit_results_nopyruvate.xlsx')"
   ]
  },
  {
   "cell_type": "markdown",
   "id": "1685c545-a9a5-4a20-83c5-0e0a977c1798",
   "metadata": {},
   "source": [
    "## DEV"
   ]
  },
  {
   "cell_type": "code",
   "execution_count": 69,
   "id": "69c8b91f-c966-4899-9575-89bf56fab6ce",
   "metadata": {},
   "outputs": [],
   "source": [
    "def extract1D(data_pt_ppm, spectrum, uc, sw=100.1, C_offset = 0, normalize=False):\n",
    "\n",
    "    #convert data_pt_ppm to index\n",
    "\n",
    "    if a.mode=='HNCA':\n",
    "\n",
    "        idx = np.array([uc[0](data_pt_ppm[0], \"ppm\"), uc[1](data_pt_ppm[1]+C_offset, \"ppm\"), uc[2](data_pt_ppm[2], \"ppm\")])\n",
    "        #calculate indices for trace boundary, based on tw. \n",
    "        hz_bounds = a.hz_to_idx(uc[1], sw)\n",
    "        hz_vals = np.linspace(-hz_bounds, hz_bounds, num=2*hz_bounds+1)*sw/hz_bounds\n",
    "\n",
    "        #1D slice through peak center, weight-added by tensor product to 1D 13C slices nearby (in the HN, N dimensions)\n",
    "        weights = np.array([[0.6, 0.8, 0.9, 1, 0.9, 0.8, 0.6]]) #weights vector to compute weighted sum\n",
    "        slices = spectrum[idx[0]-3:idx[0]+4, idx[1]-hz_bounds:idx[1]+hz_bounds+1,idx[2]-3:idx[2]+4]\n",
    "        trace = np.tensordot(slices,weights.T@weights, axes=([0,2],[0,1]))\n",
    "        trace = np.array(trace)\n",
    "    elif a.mode=='HCA':\n",
    "        idx = np.array([uc[i](data_pt_ppm[i], \"ppm\") for i in range(len(uc))])\n",
    "        #calculate indices for trace boundary, based on tw. \n",
    "        hz_bounds = a.hz_to_idx(uc[0], sw)\n",
    "        hz_vals = np.linspace(-hz_bounds, hz_bounds, num=2*hz_bounds+1)*sw/hz_bounds\n",
    "        #1D slice through peak center, weight-added by tensor product to 1D 13C slices nearby (in the HN, N dimensions)\n",
    "        weights = np.array([[0.4,0.8,1,0.8,0.4]]) #weights vector to compute weighted sum\n",
    "        slices = spectrum[idx[0]-hz_bounds:idx[0]+hz_bounds+1, idx[1]-2:idx[1]+3]\n",
    "        trace = slices@weights.T\n",
    "        trace = np.array(trace)\n",
    "\n",
    "    normalizer=np.sum(trace)\n",
    "\n",
    "    if normalize:\n",
    "        #normalize by peak volume\n",
    "        trace=trace/normalizer*(2*hz_bounds+1)\n",
    "    return hz_vals, trace"
   ]
  },
  {
   "cell_type": "code",
   "execution_count": 16,
   "id": "0b12abd4-fd88-463a-b078-b8d1a57d2262",
   "metadata": {},
   "outputs": [
    {
     "data": {
      "text/plain": [
       "[<matplotlib.lines.Line2D at 0x7f4feea25940>]"
      ]
     },
     "execution_count": 16,
     "metadata": {},
     "output_type": "execute_result"
    },
    {
     "data": {
      "image/png": "[encoded data removed]",
      "text/plain": [
       "<Figure size 432x288 with 1 Axes>"
      ]
     },
     "metadata": {
      "needs_background": "light"
     },
     "output_type": "display_data"
    }
   ],
   "source": [
    "diagnose = shifts_array[3] #18 for K27, #-4 for K49\n",
    "#diagnose = [51.6, 8.21]\n",
    "hz, nocop_trace= a.extract1D(diagnose, a.cop_dats[0], a.cop_unit_convs[0], sw=70, normalize=True)\n",
    "plt.plot(hz, nocop_trace, '-o')"
   ]
  },
  {
   "cell_type": "code",
   "execution_count": 11,
   "id": "63a6f40a-5477-46f7-a635-a58cfe4a3e48",
   "metadata": {},
   "outputs": [
    {
     "name": "stdout",
     "output_type": "stream",
     "text": [
      "[0.99922562202695, 0.6164240778049888, 0.9972319609911423, 0.9895554077368358, 0.9993142517251683]\n",
      "[39.99999996  1.         42.9851771  24.56666616 34.80521586  8.483489  ]\n",
      "42.985177100820835\n"
     ]
    }
   ],
   "source": [
    "data = shifts_array[1]\n",
    "params,_ = a.CalcCB(data, simple_output=False)\n",
    "print([(1+a.dec_interpolation[i](params[2]))/2 for i in range(5)])\n",
    "print(params)\n",
    "print(params[2])"
   ]
  },
  {
   "cell_type": "code",
   "execution_count": 12,
   "id": "57d86405-e1c4-41ae-be2e-cd688401616b",
   "metadata": {},
   "outputs": [
    {
     "data": {
      "text/plain": [
       "[<matplotlib.lines.Line2D at 0x7fc840dc5af0>,\n",
       " <matplotlib.lines.Line2D at 0x7fc840dccb80>]"
      ]
     },
     "execution_count": 12,
     "metadata": {},
     "output_type": "execute_result"
    },
    {
     "data": {
      "image/png": "[encoded data removed]",
      "text/plain": [
       "<Figure size 1080x360 with 1 Axes>"
      ]
     },
     "metadata": {
      "needs_background": "light"
     },
     "output_type": "display_data"
    }
   ],
   "source": [
    "hz, nocop_trace = a.extract1D(data, a.cop_dats[1], a.cop_unit_convs[1], normalize=True)\n",
    "cop_1Ds = np.array([a.extract1D(data, a.cop_dats[i], a.cop_unit_convs[i], normalize=True)[1] for i in range(5)])\n",
    "cop_1Ds = cop_1Ds.reshape(-1)\n",
    "hz_long = np.array([hz+200*i for i in range(5)]).reshape(-1)\n",
    "plt.figure(figsize=(15,5))\n",
    "plt.plot(hz_long, a.lineshape_Cb(hz, *params), hz_long, cop_1Ds)"
   ]
  },
  {
   "cell_type": "code",
   "execution_count": null,
   "id": "45067eb8-269e-4051-866e-7056e822ba31",
   "metadata": {},
   "outputs": [],
   "source": []
  }
 ],
 "metadata": {
  "kernelspec": {
   "display_name": "nmr",
   "language": "python",
   "name": "nmr"
  },
  "language_info": {
   "codemirror_mode": {
    "name": "ipython",
    "version": 3
   },
   "file_extension": ".py",
   "mimetype": "text/x-python",
   "name": "python",
   "nbconvert_exporter": "python",
   "pygments_lexer": "ipython3",
   "version": "3.9.12"
  }
 },
 "nbformat": 4,
 "nbformat_minor": 5
}
