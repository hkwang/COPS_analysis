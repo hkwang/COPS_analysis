{
 "cells": [
  {
   "cell_type": "code",
   "execution_count": 12,
   "id": "36149fab-3566-48aa-8bd5-f49e9abdf6b0",
   "metadata": {},
   "outputs": [],
   "source": [
    "import pandas as pd\n",
    "import numpy as np\n",
    "import cops_analysis"
   ]
  },
  {
   "cell_type": "code",
   "execution_count": 45,
   "id": "e79a90be-2395-4cca-8832-b81b9453a0c7",
   "metadata": {},
   "outputs": [],
   "source": [
    "tb = pd.read_csv('/home/nmrbox/hwang/Downloads/Shp2_peaklist_calibrated.txt', sep='\\t')\n",
    "is_sequential = tb['Assign F2'].apply(len)<8\n",
    "tb['is_sequential']=is_sequential\n",
    "tb = tb.rename(columns={'Position F1':'w1','Position F2':'w2','Position F3':'w3'})\n",
    "function = lambda row: row['Assign F2'][7-5*row['is_sequential']:11-5*row['is_sequential']]\n",
    "tb['Assignment'] = tb.apply(function, axis=1)"
   ]
  },
  {
   "cell_type": "code",
   "execution_count": 48,
   "id": "50a51696-5728-47cd-8caa-23713297c73b",
   "metadata": {},
   "outputs": [],
   "source": [
    "tb.to_csv('SHP2_processed.csv', sep='\\t', index_label=False)"
   ]
  },
  {
   "cell_type": "code",
   "execution_count": null,
   "id": "5aa52496-d041-46aa-91fa-3035ac600d3b",
   "metadata": {},
   "outputs": [],
   "source": []
  }
 ],
 "metadata": {
  "kernelspec": {
   "display_name": "nmr",
   "language": "python",
   "name": "nmr"
  },
  "language_info": {
   "codemirror_mode": {
    "name": "ipython",
    "version": 3
   },
   "file_extension": ".py",
   "mimetype": "text/x-python",
   "name": "python",
   "nbconvert_exporter": "python",
   "pygments_lexer": "ipython3",
   "version": "3.9.12"
  }
 },
 "nbformat": 4,
 "nbformat_minor": 5
}
